{
 "cells": [
  {
   "cell_type": "code",
   "execution_count": 1,
   "id": "d4b1a0d0",
   "metadata": {},
   "outputs": [],
   "source": [
    "# Import necessary libraries\n",
    "\n",
    "import pandas as pd\n",
    "import numpy as np\n",
    "import seaborn as sns\n",
    "import matplotlib.pyplot as plt"
   ]
  },
  {
   "cell_type": "code",
   "execution_count": 2,
   "id": "25972957",
   "metadata": {},
   "outputs": [
    {
     "name": "stderr",
     "output_type": "stream",
     "text": [
      "/var/folders/2z/mxpbj1rs449g8256h385ymb00000gp/T/ipykernel_38143/3141915171.py:1: DtypeWarning: Columns (28,42,76,78,82,89) have mixed types. Specify dtype option on import or set low_memory=False.\n",
      "  h1b_visa_data_2020_to_2024_certified = pd.read_csv('./data/h1b_visa_data_2020_to_2024_certified.csv')\n"
     ]
    }
   ],
   "source": [
    "h1b_visa_data_2020_to_2024_certified = pd.read_csv('./data/h1b_visa_data_2020_to_2024_certified.csv')"
   ]
  },
  {
   "cell_type": "code",
   "execution_count": 3,
   "id": "955e5c1f",
   "metadata": {},
   "outputs": [
    {
     "data": {
      "text/html": [
       "<div>\n",
       "<style scoped>\n",
       "    .dataframe tbody tr th:only-of-type {\n",
       "        vertical-align: middle;\n",
       "    }\n",
       "\n",
       "    .dataframe tbody tr th {\n",
       "        vertical-align: top;\n",
       "    }\n",
       "\n",
       "    .dataframe thead th {\n",
       "        text-align: right;\n",
       "    }\n",
       "</style>\n",
       "<table border=\"1\" class=\"dataframe\">\n",
       "  <thead>\n",
       "    <tr style=\"text-align: right;\">\n",
       "      <th></th>\n",
       "      <th>CASE_NUMBER</th>\n",
       "      <th>CASE_STATUS</th>\n",
       "      <th>RECEIVED_DATE</th>\n",
       "      <th>DECISION_DATE</th>\n",
       "      <th>ORIGINAL_CERT_DATE</th>\n",
       "      <th>VISA_CLASS</th>\n",
       "      <th>JOB_TITLE</th>\n",
       "      <th>SOC_CODE</th>\n",
       "      <th>SOC_TITLE</th>\n",
       "      <th>FULL_TIME_POSITION</th>\n",
       "      <th>...</th>\n",
       "      <th>WILLFUL_VIOLATOR</th>\n",
       "      <th>SUPPORT_H1B</th>\n",
       "      <th>STATUTORY_BASIS</th>\n",
       "      <th>APPENDIX_A_ATTACHED</th>\n",
       "      <th>PUBLIC_DISCLOSURE</th>\n",
       "      <th>PREPARER_LAST_NAME</th>\n",
       "      <th>PREPARER_FIRST_NAME</th>\n",
       "      <th>PREPARER_MIDDLE_INITIAL</th>\n",
       "      <th>PREPARER_BUSINESS_NAME</th>\n",
       "      <th>PREPARER_EMAIL</th>\n",
       "    </tr>\n",
       "  </thead>\n",
       "  <tbody>\n",
       "    <tr>\n",
       "      <th>0</th>\n",
       "      <td>I-200-19268-393467</td>\n",
       "      <td>Certified</td>\n",
       "      <td>2019-09-25</td>\n",
       "      <td>2019-10-01</td>\n",
       "      <td>NaN</td>\n",
       "      <td>H-1B</td>\n",
       "      <td>APPLICATION ENGINEER, OMS [15-1199.02]</td>\n",
       "      <td>15-1199</td>\n",
       "      <td>COMPUTER OCCUPATIONS, ALL OTHER</td>\n",
       "      <td>Y</td>\n",
       "      <td>...</td>\n",
       "      <td>N</td>\n",
       "      <td>NaN</td>\n",
       "      <td>NaN</td>\n",
       "      <td>NaN</td>\n",
       "      <td>Disclose Business</td>\n",
       "      <td>NaN</td>\n",
       "      <td>NaN</td>\n",
       "      <td>NaN</td>\n",
       "      <td>NaN</td>\n",
       "      <td>NaN</td>\n",
       "    </tr>\n",
       "    <tr>\n",
       "      <th>1</th>\n",
       "      <td>I-200-19268-638983</td>\n",
       "      <td>Certified</td>\n",
       "      <td>2019-09-25</td>\n",
       "      <td>2019-10-01</td>\n",
       "      <td>NaN</td>\n",
       "      <td>H-1B</td>\n",
       "      <td>BI DEVELOPER II</td>\n",
       "      <td>15-1132</td>\n",
       "      <td>SOFTWARE DEVELOPERS, APPLICATIONS</td>\n",
       "      <td>Y</td>\n",
       "      <td>...</td>\n",
       "      <td>N</td>\n",
       "      <td>Y</td>\n",
       "      <td>BOTH</td>\n",
       "      <td>NaN</td>\n",
       "      <td>Disclose Business</td>\n",
       "      <td>NaN</td>\n",
       "      <td>NaN</td>\n",
       "      <td>NaN</td>\n",
       "      <td>NaN</td>\n",
       "      <td>NaN</td>\n",
       "    </tr>\n",
       "    <tr>\n",
       "      <th>2</th>\n",
       "      <td>I-200-19268-177184</td>\n",
       "      <td>Certified</td>\n",
       "      <td>2019-09-25</td>\n",
       "      <td>2019-10-01</td>\n",
       "      <td>NaN</td>\n",
       "      <td>H-1B</td>\n",
       "      <td>QUALITY ENGINEER</td>\n",
       "      <td>17-2141</td>\n",
       "      <td>MECHANICAL ENGINEERS</td>\n",
       "      <td>Y</td>\n",
       "      <td>...</td>\n",
       "      <td>N</td>\n",
       "      <td>Y</td>\n",
       "      <td>BOTH</td>\n",
       "      <td>NaN</td>\n",
       "      <td>Disclose Business</td>\n",
       "      <td>NaN</td>\n",
       "      <td>NaN</td>\n",
       "      <td>NaN</td>\n",
       "      <td>NaN</td>\n",
       "      <td>NaN</td>\n",
       "    </tr>\n",
       "    <tr>\n",
       "      <th>3</th>\n",
       "      <td>I-200-19268-936403</td>\n",
       "      <td>Certified</td>\n",
       "      <td>2019-09-25</td>\n",
       "      <td>2019-10-01</td>\n",
       "      <td>NaN</td>\n",
       "      <td>H-1B</td>\n",
       "      <td>SOFTWARE DEVELOPER, APPLICATIONS</td>\n",
       "      <td>15-1132</td>\n",
       "      <td>SOFTWARE DEVELOPERS, APPLICATIONS</td>\n",
       "      <td>Y</td>\n",
       "      <td>...</td>\n",
       "      <td>N</td>\n",
       "      <td>Y</td>\n",
       "      <td>BOTH</td>\n",
       "      <td>NaN</td>\n",
       "      <td>Disclose Business</td>\n",
       "      <td>NaN</td>\n",
       "      <td>NaN</td>\n",
       "      <td>NaN</td>\n",
       "      <td>NaN</td>\n",
       "      <td>NaN</td>\n",
       "    </tr>\n",
       "    <tr>\n",
       "      <th>4</th>\n",
       "      <td>I-200-19268-394079</td>\n",
       "      <td>Certified</td>\n",
       "      <td>2019-09-25</td>\n",
       "      <td>2019-10-01</td>\n",
       "      <td>NaN</td>\n",
       "      <td>H-1B</td>\n",
       "      <td>QUALITY ENGINEER LEVEL II</td>\n",
       "      <td>15-1199</td>\n",
       "      <td>COMPUTER OCCUPATIONS, ALL OTHER</td>\n",
       "      <td>Y</td>\n",
       "      <td>...</td>\n",
       "      <td>N</td>\n",
       "      <td>Y</td>\n",
       "      <td>BOTH</td>\n",
       "      <td>NaN</td>\n",
       "      <td>Disclose Business</td>\n",
       "      <td>NaN</td>\n",
       "      <td>NaN</td>\n",
       "      <td>NaN</td>\n",
       "      <td>NaN</td>\n",
       "      <td>LEGAL@THEEGIANTS.COM</td>\n",
       "    </tr>\n",
       "  </tbody>\n",
       "</table>\n",
       "<p>5 rows × 96 columns</p>\n",
       "</div>"
      ],
      "text/plain": [
       "          CASE_NUMBER CASE_STATUS RECEIVED_DATE DECISION_DATE  \\\n",
       "0  I-200-19268-393467   Certified    2019-09-25    2019-10-01   \n",
       "1  I-200-19268-638983   Certified    2019-09-25    2019-10-01   \n",
       "2  I-200-19268-177184   Certified    2019-09-25    2019-10-01   \n",
       "3  I-200-19268-936403   Certified    2019-09-25    2019-10-01   \n",
       "4  I-200-19268-394079   Certified    2019-09-25    2019-10-01   \n",
       "\n",
       "   ORIGINAL_CERT_DATE VISA_CLASS                               JOB_TITLE  \\\n",
       "0                 NaN       H-1B  APPLICATION ENGINEER, OMS [15-1199.02]   \n",
       "1                 NaN       H-1B                         BI DEVELOPER II   \n",
       "2                 NaN       H-1B                        QUALITY ENGINEER   \n",
       "3                 NaN       H-1B        SOFTWARE DEVELOPER, APPLICATIONS   \n",
       "4                 NaN       H-1B               QUALITY ENGINEER LEVEL II   \n",
       "\n",
       "  SOC_CODE                          SOC_TITLE FULL_TIME_POSITION  ...  \\\n",
       "0  15-1199    COMPUTER OCCUPATIONS, ALL OTHER                  Y  ...   \n",
       "1  15-1132  SOFTWARE DEVELOPERS, APPLICATIONS                  Y  ...   \n",
       "2  17-2141               MECHANICAL ENGINEERS                  Y  ...   \n",
       "3  15-1132  SOFTWARE DEVELOPERS, APPLICATIONS                  Y  ...   \n",
       "4  15-1199    COMPUTER OCCUPATIONS, ALL OTHER                  Y  ...   \n",
       "\n",
       "  WILLFUL_VIOLATOR SUPPORT_H1B  STATUTORY_BASIS  APPENDIX_A_ATTACHED  \\\n",
       "0                N         NaN              NaN                  NaN   \n",
       "1                N           Y             BOTH                  NaN   \n",
       "2                N           Y             BOTH                  NaN   \n",
       "3                N           Y             BOTH                  NaN   \n",
       "4                N           Y             BOTH                  NaN   \n",
       "\n",
       "   PUBLIC_DISCLOSURE  PREPARER_LAST_NAME  PREPARER_FIRST_NAME  \\\n",
       "0  Disclose Business                 NaN                  NaN   \n",
       "1  Disclose Business                 NaN                  NaN   \n",
       "2  Disclose Business                 NaN                  NaN   \n",
       "3  Disclose Business                 NaN                  NaN   \n",
       "4  Disclose Business                 NaN                  NaN   \n",
       "\n",
       "   PREPARER_MIDDLE_INITIAL  PREPARER_BUSINESS_NAME        PREPARER_EMAIL  \n",
       "0                      NaN                     NaN                   NaN  \n",
       "1                      NaN                     NaN                   NaN  \n",
       "2                      NaN                     NaN                   NaN  \n",
       "3                      NaN                     NaN                   NaN  \n",
       "4                      NaN                     NaN  LEGAL@THEEGIANTS.COM  \n",
       "\n",
       "[5 rows x 96 columns]"
      ]
     },
     "execution_count": 3,
     "metadata": {},
     "output_type": "execute_result"
    }
   ],
   "source": [
    "h1b_visa_data_2020_to_2024_certified.head()"
   ]
  },
  {
   "cell_type": "code",
   "execution_count": 6,
   "id": "d4cf801f",
   "metadata": {},
   "outputs": [],
   "source": [
    "# Group JOB_TITLES into SOFTWARE ENGINEER, DATA SCIENTIST, QA ENGINEER, or keep original\n",
    "\n",
    "def group_job_title(title):\n",
    "    title_lower = str(title).lower()\n",
    "    if \"software engineer\" in title_lower or \"software developer\" in title_lower or \"software development engineer\" in title_lower or \"senior software engineer\" in title_lower or \"senior software developer\" in title_lower or \"sde\" in title_lower or \"full stack developer\" in title_lower or \"full stack engineer\" in title_lower or \"frontend developer\" in title_lower or \"backend developer\" in title_lower:\n",
    "        return \"Software Engineer\"\n",
    "    elif \"data scientist\" in title_lower:\n",
    "        return \"Data Scientist\"\n",
    "    elif \"qa\" in title_lower or \"test engineer\" in title_lower or \"quality\" in title_lower:\n",
    "        return \"QA Engineer\"\n",
    "    elif \"systems analyst\" in title_lower or \"systems engineer\" in title_lower or \"analyst\" in title_lower or \"associate\" in title_lower or \"architect\" in title_lower:\n",
    "        return \"Systems Analyst/Engineer/Architect\"\n",
    "    elif \"manager\" in title_lower or \"manager jc50\" in title_lower or \"product manager\" in title_lower or \"project manager\" in title_lower or \"program manager\" in title_lower or \"technical program manager\" in title_lower:\n",
    "        return \"Technical/Project/Product Manager\"\n",
    "    elif \"data engineer\" in title_lower or \"big data\" in title_lower or \"data architect\" in title_lower:\n",
    "        return \"Data Engineer/Architect\"\n",
    "    elif \"network engineer\" in title_lower or \"network administrator\" in title_lower or \"network architect\" in title_lower:\n",
    "        return \"Network Engineer/Administrator/Architect\"\n",
    "    elif \"security engineer\" in title_lower or \"cybersecurity\" in title_lower or \"information security\" in title_lower:\n",
    "        return \"Security Engineer/Cybersecurity\"\n",
    "    elif \"devops engineer\" in title_lower or \"site reliability  engineer\" in title_lower or \"sre\" in title_lower:\n",
    "        return \"DevOps/Site Reliability Engineer\"\n",
    "    elif \"mechanical engineer\" in title_lower or \"mechanical design engineer\" in title_lower or \"mechanical design\" in title_lower:\n",
    "        return \"Mechanical Engineer\"\n",
    "    elif \"civil engineer\" in title_lower or \"civil design engineer\" in title_lower or \"civil design\" in title_lower:\n",
    "        return \"Civil Engineer\"\n",
    "    elif \"electrical engineer\" in title_lower or \"electrical design engineer\" in title_lower or \"electrical design\" in title_lower:\n",
    "        return \"Electrical Engineer\"\n",
    "    elif \"business analyst\" in title_lower or \"business intelligence\" in title_lower or \"bi developer\" in title_lower or \"bi analyst\" in title_lower:\n",
    "        return \"Business Analyst/Business Intelligence\"\n",
    "    elif \"rf engineer\" in title_lower or \"radio frequency engineer\" in title_lower:\n",
    "        return \"RF Engineer\"\n",
    "    elif \"hardware engineer\" in title_lower or \"hardware design engineer\" in title_lower or \"hardware design\" in title_lower:\n",
    "        return \"Hardware Engineer\"\n",
    "    elif \"aerospace engineer\" in title_lower or \"aerospace design engineer\" in title_lower or \"aerospace design\" in title_lower or \"astrodynamics\" in title_lower:\n",
    "        return \"Aerospace Engineer\"\n",
    "    elif \"machine learning\" in title_lower or \"ml engineer\" in title_lower or \"artificial intelligence\" in title_lower or \"ai engineer\" in title_lower:\n",
    "        return \"Machine Learning/AI Engineer\"\n",
    "    elif \"cloud engineer\" in title_lower or \"cloud architect\" in title_lower or \"cloud developer\" in title_lower:\n",
    "        return \"Cloud Engineer/Architect/Developer\"\n",
    "    elif \"database administrator\" in title_lower or \"db administrator\" in title_lower or \"db engineer\" in title_lower:\n",
    "        return \"Database Administrator/Engineer\"\n",
    "    else:\n",
    "        return title\n",
    "    \n",
    "h1b_visa_data_2020_to_2024_grouped = h1b_visa_data_2020_to_2024_certified.copy()\n",
    "h1b_visa_data_2020_to_2024_grouped[\"JOB_TITLE_GROUPED\"] = h1b_visa_data_2020_to_2024_grouped[\"JOB_TITLE\"].apply(group_job_title)"
   ]
  },
  {
   "cell_type": "code",
   "execution_count": 7,
   "id": "7f9241ac",
   "metadata": {},
   "outputs": [],
   "source": [
    "# Convert all EMPLOYER_NAMEs containing \"COGNIZANT TECHNOLOGY SOLUTIONS US CORP\" to 'Cognizant Technology Solutions US Corp'\n",
    "h1b_visa_data_2020_to_2024_grouped.loc[\n",
    "    h1b_visa_data_2020_to_2024_grouped[\"EMPLOYER_NAME\"].str.contains(\"COGNIZANT TECHNOLOGY SOLUTIONS US CORP\", case=False, na=False),\n",
    "    \"EMPLOYER_NAME\"\n",
    "] = \"Cognizant Technology Solutions US Corp\""
   ]
  },
  {
   "cell_type": "code",
   "execution_count": 8,
   "id": "d0c48b4b",
   "metadata": {},
   "outputs": [],
   "source": [
    "# Convert all EMPLOYER_NAMEs containing \"TATA CONSULTANCY SERVICES LIMITED\" to 'Cognizant Technology Solutions US Corp'\n",
    "h1b_visa_data_2020_to_2024_grouped.loc[\n",
    "    h1b_visa_data_2020_to_2024_grouped[\"EMPLOYER_NAME\"].str.contains(\"TATA CONSULTANCY SERVICES LIMITED\", case=False, na=False),\n",
    "    \"EMPLOYER_NAME\"\n",
    "] = \"Tata Consultancy Services Limited\""
   ]
  },
  {
   "cell_type": "code",
   "execution_count": 9,
   "id": "172b0cb0",
   "metadata": {},
   "outputs": [],
   "source": [
    "# Convert all EMPLOYER_NAMEs containing \"WIPRO LIMITED\" to 'Wipro Limited'\n",
    "h1b_visa_data_2020_to_2024_grouped.loc[\n",
    "    h1b_visa_data_2020_to_2024_grouped[\"EMPLOYER_NAME\"].str.contains(\"WIPRO LIMITED\", case=False, na=False),\n",
    "    \"EMPLOYER_NAME\"\n",
    "] = \"Wipro Limited\""
   ]
  },
  {
   "cell_type": "code",
   "execution_count": 10,
   "id": "b3d30f51",
   "metadata": {},
   "outputs": [],
   "source": [
    "# Convert all EMPLOYER_NAMEs containing \"Ernst & Young U.S.\" to 'Ernst & Young U.S. LLP'\n",
    "h1b_visa_data_2020_to_2024_grouped.loc[\n",
    "    h1b_visa_data_2020_to_2024_grouped[\"EMPLOYER_NAME\"].str.contains(\"Ernst & Young U.S.\", case=False, na=False),\n",
    "    \"EMPLOYER_NAME\"\n",
    "] = \"Ernst & Young U.S. LLP\""
   ]
  },
  {
   "cell_type": "code",
   "execution_count": 11,
   "id": "00113d61",
   "metadata": {},
   "outputs": [],
   "source": [
    "# Convert all EMPLOYER_NAMEs containing \"Amazon Services LLC\" to 'Amazon Services LLC'\n",
    "h1b_visa_data_2020_to_2024_grouped.loc[\n",
    "    h1b_visa_data_2020_to_2024_grouped[\"EMPLOYER_NAME\"].str.contains(\"Amazon Services LLC\", case=False, na=False),\n",
    "    \"EMPLOYER_NAME\"\n",
    "] = \"Amazon Services LLC\""
   ]
  },
  {
   "cell_type": "code",
   "execution_count": 12,
   "id": "cf57460d",
   "metadata": {},
   "outputs": [],
   "source": [
    "# Convert all EMPLOYER_NAMEs containing \"Meta Platforms, Inc\" to 'Meta Platforms, Inc'\n",
    "h1b_visa_data_2020_to_2024_grouped.loc[\n",
    "    h1b_visa_data_2020_to_2024_grouped[\"EMPLOYER_NAME\"].str.contains(\"Meta Platforms, Inc\", case=False, na=False),\n",
    "    \"EMPLOYER_NAME\"\n",
    "] = \"Meta Platforms, Inc\""
   ]
  },
  {
   "cell_type": "code",
   "execution_count": 13,
   "id": "a290fb76",
   "metadata": {},
   "outputs": [],
   "source": [
    "# Convert all EMPLOYER_NAMEs containing \"Facebook, Inc\" to 'Facebook, Inc.'\n",
    "h1b_visa_data_2020_to_2024_grouped.loc[\n",
    "    h1b_visa_data_2020_to_2024_grouped[\"EMPLOYER_NAME\"].str.contains(\"Facebook, Inc\", case=False, na=False),\n",
    "    \"EMPLOYER_NAME\"\n",
    "] = \"Facebook, Inc.\""
   ]
  },
  {
   "cell_type": "code",
   "execution_count": 14,
   "id": "3a9d6d2b",
   "metadata": {},
   "outputs": [],
   "source": [
    "# Convert all EMPLOYER_NAMEs containing Adobe Inc\" to 'Adobe, Inc.'\n",
    "h1b_visa_data_2020_to_2024_grouped.loc[\n",
    "    h1b_visa_data_2020_to_2024_grouped[\"EMPLOYER_NAME\"].str.contains(\"Adobe Inc\", case=False, na=False),\n",
    "    \"EMPLOYER_NAME\"\n",
    "] = \"Adobe, Inc.\""
   ]
  },
  {
   "cell_type": "code",
   "execution_count": 15,
   "id": "29f8701c",
   "metadata": {},
   "outputs": [],
   "source": [
    "# Convert all EMPLOYER_NAMEs containing Adobe Inc\" to 'Adobe, Inc.'\n",
    "h1b_visa_data_2020_to_2024_grouped.loc[\n",
    "    h1b_visa_data_2020_to_2024_grouped[\"EMPLOYER_NAME\"].str.contains(\"Bytedance Inc\", case=False, na=False),\n",
    "    \"EMPLOYER_NAME\"\n",
    "] = \"Bytedance Inc.\""
   ]
  },
  {
   "cell_type": "code",
   "execution_count": 19,
   "id": "8ceaee00",
   "metadata": {},
   "outputs": [],
   "source": [
    "# Convert all EMPLOYER_NAMEs containing Adobe Inc\" to 'Adobe, Inc.'\n",
    "h1b_visa_data_2020_to_2024_grouped.loc[\n",
    "    h1b_visa_data_2020_to_2024_grouped[\"EMPLOYER_NAME\"].str.contains(\"Google\", case=False, na=False),\n",
    "    \"EMPLOYER_NAME\"\n",
    "] = \"Google LLC\""
   ]
  },
  {
   "cell_type": "code",
   "execution_count": 24,
   "id": "45c1377f",
   "metadata": {},
   "outputs": [],
   "source": [
    "# Convert all EMPLOYER_NAMEs containing Adobe Inc\" to 'Adobe, Inc.'\n",
    "h1b_visa_data_2020_to_2024_grouped.loc[\n",
    "    h1b_visa_data_2020_to_2024_grouped[\"EMPLOYER_NAME\"].str.contains(\"Apple Inc.\", case=False, na=False),\n",
    "    \"EMPLOYER_NAME\"\n",
    "] = \"Apple Inc.\""
   ]
  },
  {
   "cell_type": "code",
   "execution_count": 25,
   "id": "d0d8eb8e",
   "metadata": {},
   "outputs": [
    {
     "name": "stdout",
     "output_type": "stream",
     "text": [
      "['Apple Inc.']\n"
     ]
    }
   ],
   "source": [
    "# Get all unique EMPLOYER_NAMEs containing 'Meta Platform' (case-insensitive)\n",
    "meta_employers = h1b_visa_data_2020_to_2024_grouped[\n",
    "    h1b_visa_data_2020_to_2024_grouped[\"EMPLOYER_NAME\"].str.contains(\"Apple Inc.\", case=False, na=False)\n",
    "][\"EMPLOYER_NAME\"].unique()\n",
    "print(meta_employers)"
   ]
  },
  {
   "cell_type": "code",
   "execution_count": 26,
   "id": "3a8b945f",
   "metadata": {},
   "outputs": [],
   "source": [
    "# Convert all WORKSITE_CITY containing New York to New York\n",
    "h1b_visa_data_2020_to_2024_grouped.loc[\n",
    "    h1b_visa_data_2020_to_2024_grouped[\"WORKSITE_CITY\"].str.contains(\"New York\", case=False, na=False),\n",
    "    \"WORKSITE_CITY\"\n",
    "] = \"New York\""
   ]
  },
  {
   "cell_type": "code",
   "execution_count": 27,
   "id": "6f712618",
   "metadata": {},
   "outputs": [],
   "source": [
    "# Convert all WORKSITE_CITY containing San Francisco to San Francisco\n",
    "h1b_visa_data_2020_to_2024_grouped.loc[\n",
    "    h1b_visa_data_2020_to_2024_grouped[\"WORKSITE_CITY\"].str.contains(\"San Francisco\", case=False, na=False),\n",
    "    \"WORKSITE_CITY\"\n",
    "] = \"San Francisco\""
   ]
  },
  {
   "cell_type": "code",
   "execution_count": 28,
   "id": "bdf903d4",
   "metadata": {},
   "outputs": [],
   "source": [
    "# Convert all WORKSITE_CITY containing Seattle to Seattle\n",
    "h1b_visa_data_2020_to_2024_grouped.loc[\n",
    "    h1b_visa_data_2020_to_2024_grouped[\"WORKSITE_CITY\"].str.contains(\"Seattle\", case=False, na=False),\n",
    "    \"WORKSITE_CITY\"\n",
    "] = \"Seattle\""
   ]
  },
  {
   "cell_type": "code",
   "execution_count": 29,
   "id": "7948e078",
   "metadata": {},
   "outputs": [],
   "source": [
    "# Convert all WORKSITE_CITY containing Plano to Plano\n",
    "h1b_visa_data_2020_to_2024_grouped.loc[\n",
    "    h1b_visa_data_2020_to_2024_grouped[\"WORKSITE_CITY\"].str.contains(\"Plano\", case=False, na=False),\n",
    "    \"WORKSITE_CITY\"\n",
    "] = \"Plano\""
   ]
  },
  {
   "cell_type": "code",
   "execution_count": 30,
   "id": "5fe2d9ae",
   "metadata": {},
   "outputs": [],
   "source": [
    "# Convert all WORKSITE_CITY containing Plano to Plano\n",
    "h1b_visa_data_2020_to_2024_grouped.loc[\n",
    "    h1b_visa_data_2020_to_2024_grouped[\"WORKSITE_CITY\"].str.contains(\"Irving\", case=False, na=False),\n",
    "    \"WORKSITE_CITY\"\n",
    "] = \"Irving\""
   ]
  },
  {
   "cell_type": "code",
   "execution_count": 31,
   "id": "355e6cee",
   "metadata": {},
   "outputs": [
    {
     "name": "stdout",
     "output_type": "stream",
     "text": [
      "['Irving']\n"
     ]
    }
   ],
   "source": [
    "# Get all unique WORKSITE_CITY containing 'Meta Platform' (case-insensitive)\n",
    "meta_employers = h1b_visa_data_2020_to_2024_grouped[\n",
    "    h1b_visa_data_2020_to_2024_grouped[\"WORKSITE_CITY\"].str.contains(\"Irving\", case=False, na=False)\n",
    "][\"WORKSITE_CITY\"].unique()\n",
    "print(meta_employers)"
   ]
  },
  {
   "cell_type": "code",
   "execution_count": 32,
   "id": "c4d45047",
   "metadata": {},
   "outputs": [],
   "source": [
    "# Add a new column CITY_AND_STATE with \"WORKSITE_CITY, WORKSITE_STATE\"\n",
    "h1b_visa_data_2020_to_2024_grouped[\"CITY_AND_STATE\"] = (\n",
    "    h1b_visa_data_2020_to_2024_grouped[\"WORKSITE_CITY\"].astype(str) + \", \" +\n",
    "    h1b_visa_data_2020_to_2024_grouped[\"WORKSITE_STATE\"].astype(str)\n",
    ")"
   ]
  },
  {
   "cell_type": "code",
   "execution_count": 33,
   "id": "9933b5f4",
   "metadata": {},
   "outputs": [],
   "source": [
    "h1b_visa_data_2020_to_2024_grouped_small = h1b_visa_data_2020_to_2024_grouped[[\"EMPLOYER_NAME\", \"JOB_TITLE_GROUPED\", \"WORKSITE_STATE\", \"PREVAILING_WAGE\", \"WORKSITE_CITY\", \"WORKSITE_POSTAL_CODE\"]]"
   ]
  },
  {
   "cell_type": "code",
   "execution_count": 34,
   "id": "9634ede1",
   "metadata": {},
   "outputs": [],
   "source": [
    "h1b_visa_data_2020_to_2024_grouped_small.to_csv('./data/h1b_visa_data_2020_to_2024_grouped_small.csv', index=False)"
   ]
  }
 ],
 "metadata": {
  "kernelspec": {
   "display_name": ".venv",
   "language": "python",
   "name": "python3"
  },
  "language_info": {
   "codemirror_mode": {
    "name": "ipython",
    "version": 3
   },
   "file_extension": ".py",
   "mimetype": "text/x-python",
   "name": "python",
   "nbconvert_exporter": "python",
   "pygments_lexer": "ipython3",
   "version": "3.12.10"
  }
 },
 "nbformat": 4,
 "nbformat_minor": 5
}
