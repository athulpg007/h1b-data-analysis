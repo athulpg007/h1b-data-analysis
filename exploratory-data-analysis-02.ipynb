{
 "cells": [
  {
   "cell_type": "code",
   "execution_count": 1,
   "id": "d4b1a0d0",
   "metadata": {},
   "outputs": [],
   "source": [
    "# Import necessary libraries\n",
    "\n",
    "import pandas as pd\n",
    "import numpy as np\n",
    "import seaborn as sns\n",
    "import matplotlib.pyplot as plt"
   ]
  },
  {
   "cell_type": "code",
   "execution_count": 2,
   "id": "9f567929",
   "metadata": {},
   "outputs": [],
   "source": [
    "data_path = 'h1b-visa-dash-app/src/data/h1b_visa_data_2020_to_2024_grouped_small.csv'\n",
    "h1b_visa_data = pd.read_csv(data_path)"
   ]
  },
  {
   "cell_type": "code",
   "execution_count": 3,
   "id": "0fe50b75",
   "metadata": {},
   "outputs": [],
   "source": [
    "# Get the top 20 EMPLOYER_NAMES by value counts\n",
    "top_20_employers = h1b_visa_data['EMPLOYER_NAME'].value_counts().head(20)\n",
    "top_20_employers_df = top_20_employers.reset_index()\n",
    "top_20_employers_df.columns = ['EMPLOYER_NAME', 'COUNT']\n",
    "\n",
    "top_20_employers_df.head(20)\n",
    "top_20_employers_df.to_csv('h1b-visa-dash-app/src/data/top_20_employers.csv', index=False)"
   ]
  },
  {
   "cell_type": "code",
   "execution_count": 4,
   "id": "1205bf8d",
   "metadata": {},
   "outputs": [],
   "source": [
    "# Filter h1b_visa_data for only the top 20 employers\n",
    "top_20_names = top_20_employers_df['EMPLOYER_NAME']\n",
    "top_20_wage_stats = (\n",
    "    h1b_visa_data[h1b_visa_data['EMPLOYER_NAME'].isin(top_20_names)]\n",
    "    .groupby('EMPLOYER_NAME')['PREVAILING_WAGE']\n",
    "    .agg(['median', 'std'])\n",
    "    .reset_index()\n",
    ")\n",
    "\n",
    "# Sort by median PREVAILING_WAGE in descending order\n",
    "top_20_wage_stats_sorted = top_20_wage_stats.sort_values(by='median', ascending=False).reset_index(drop=True)\n",
    "top_20_wage_stats_sorted.head(20)\n",
    "top_20_wage_stats_sorted.to_csv('h1b-visa-dash-app/src/data/top_20_employer_wage_stats.csv', index=False)"
   ]
  },
  {
   "cell_type": "code",
   "execution_count": 5,
   "id": "807ad5a0",
   "metadata": {},
   "outputs": [],
   "source": [
    "# Merge top_20_employers_df and top_20_wage_stats_sorted on EMPLOYER_NAME\n",
    "\n",
    "top_20_employers_merged = pd.merge(\n",
    "    top_20_employers_df,\n",
    "    top_20_wage_stats_sorted,\n",
    "    on='EMPLOYER_NAME',\n",
    "    how='inner'\n",
    ")\n",
    "\n",
    "top_20_employers_merged.head(20)\n",
    "top_20_employers_merged.to_csv('h1b-visa-dash-app/src/data/top_20_employers_merged.csv', index=False)"
   ]
  },
  {
   "cell_type": "code",
   "execution_count": 6,
   "id": "02e55687",
   "metadata": {},
   "outputs": [],
   "source": [
    "# Get the top 20 JOB_TITLE by value counts\n",
    "top_20_job_titles = h1b_visa_data['JOB_TITLE_GROUPED'].value_counts().head(20)\n",
    "top_20_job_titles_df = top_20_job_titles.reset_index()\n",
    "top_20_job_titles_df.columns = ['JOB_TITLE', 'COUNT']\n",
    "\n",
    "top_20_job_titles_df.head(20)\n",
    "top_20_job_titles_df.to_csv('h1b-visa-dash-app/src/data/top_20_job_titles.csv', index=False)"
   ]
  },
  {
   "cell_type": "code",
   "execution_count": 7,
   "id": "00291e18",
   "metadata": {},
   "outputs": [],
   "source": [
    "# Median prevailing wage for top 20 job titles\n",
    "top_20_job_titles = top_20_job_titles_df[\"JOB_TITLE\"]\n",
    "top_20_job_title_wage_stats = (\n",
    "    h1b_visa_data[h1b_visa_data['JOB_TITLE_GROUPED'].isin(top_20_job_titles)]\n",
    "    .groupby('JOB_TITLE_GROUPED')['PREVAILING_WAGE']\n",
    "    .agg(['median', 'std'])\n",
    "    .reset_index()\n",
    ")\n",
    "\n",
    "# Sort by median PREVAILING_WAGE in descending order\n",
    "top_20_job_titles_wage_sorted = top_20_job_title_wage_stats.sort_values(by='median', ascending=False).reset_index(drop=True)\n",
    "top_20_job_titles_wage_sorted.head(20)\n",
    "top_20_job_titles_wage_sorted.to_csv('h1b-visa-dash-app/src/data/top_20_job_title_wage_stats.csv', index=False)"
   ]
  },
  {
   "cell_type": "code",
   "execution_count": 8,
   "id": "320ed82d",
   "metadata": {},
   "outputs": [],
   "source": [
    "# Merge top_20_job_titles_df and top_20_job_title_wage_stats on JOB_TITLE_GROUPED\n",
    "\n",
    "top_20_job_titles_merged = pd.merge(\n",
    "    top_20_job_titles_df,\n",
    "    top_20_job_title_wage_stats,\n",
    "    left_on='JOB_TITLE',\n",
    "    right_on='JOB_TITLE_GROUPED',\n",
    "    how='inner'\n",
    ")\n",
    "\n",
    "top_20_job_titles_merged.drop(columns=['JOB_TITLE_GROUPED'], inplace=True)\n",
    "top_20_job_titles_merged.head(20)\n",
    "top_20_job_titles_merged.to_csv('h1b-visa-dash-app/src/data/top_20_job_titles_merged.csv', index=False)"
   ]
  },
  {
   "cell_type": "code",
   "execution_count": 13,
   "id": "b132b2cf",
   "metadata": {},
   "outputs": [],
   "source": [
    "# Get top 50 employers by median prevailing wage\n",
    "wage_stats = (\n",
    "h1b_visa_data.groupby('EMPLOYER_NAME')['PREVAILING_WAGE']\n",
    ".agg(['median', 'std', 'count'])\n",
    ".reset_index()\n",
    ")\n",
    "# Filter to employers with at least 500 records for stability\n",
    "wage_stats = wage_stats[wage_stats['count'] >= 500]\n",
    "# Sort by median wage and take top 50\n",
    "top50 = wage_stats.sort_values(by='median', ascending=False).head(50)\n",
    "top50.head(50)\n",
    "top50.to_csv('h1b-visa-dash-app/src/data/top_50_employers_by_median_wage.csv', index=False)"
   ]
  },
  {
   "cell_type": "code",
   "execution_count": 14,
   "id": "18e48367",
   "metadata": {},
   "outputs": [],
   "source": [
    "state_counts = (\n",
    "    h1b_visa_data['WORKSITE_STATE']\n",
    "    .value_counts()\n",
    "    .reset_index()\n",
    "    .rename(columns={'index': 'WORKSITE_STATE', 'count': 'count'})\n",
    ")\n",
    "state_counts.head(30)\n",
    "state_counts.to_csv('h1b-visa-dash-app/src/data/state_counts.csv', index=False)"
   ]
  },
  {
   "cell_type": "code",
   "execution_count": 15,
   "id": "8dba4ad5",
   "metadata": {},
   "outputs": [],
   "source": [
    "state_salary = (\n",
    "    h1b_visa_data.groupby(\"WORKSITE_STATE\")[\"PREVAILING_WAGE\"]\n",
    "    .median()\n",
    "    .reset_index()\n",
    "    .rename(columns={\"PREVAILING_WAGE\": \"MEDIAN_PREVAILING_WAGE\"})\n",
    ")\n",
    "state_salary.head(30)\n",
    "state_salary.to_csv('h1b-visa-dash-app/src/data/state_median_wage.csv', index=False)"
   ]
  },
  {
   "cell_type": "code",
   "execution_count": 42,
   "id": "b655cf87",
   "metadata": {},
   "outputs": [],
   "source": [
    "top_500_job_titles = h1b_visa_data['JOB_TITLE_GROUPED'].value_counts().head(500)\n",
    "top_500_job_titles = top_500_job_titles.index.tolist()\n",
    "top_500_job_titles\n",
    "\n",
    "top_500_job_title_stats = (\n",
    "    h1b_visa_data[h1b_visa_data['JOB_TITLE_GROUPED'].isin(top_500_job_titles)]\n",
    ")[[\"JOB_TITLE_GROUPED\", \"PREVAILING_WAGE\", \"WORKSITE_STATE\"]]\n",
    "top_500_job_title_stats.to_csv('h1b-visa-dash-app/src/data/top_500_job_title_stats.csv', index=False)"
   ]
  },
  {
   "cell_type": "code",
   "execution_count": 43,
   "id": "a3db1460",
   "metadata": {},
   "outputs": [],
   "source": [
    "# Create a DataFrame of the top 300 JOB_TITLE_GROUPED by value counts, sorted descending\n",
    "\n",
    "top_500_job_titles = h1b_visa_data['JOB_TITLE_GROUPED'].value_counts().head(500)\n",
    "top_500_job_titles_df = top_500_job_titles.reset_index()\n",
    "top_500_job_titles_df.columns = ['JOB_TITLE_GROUPED', 'COUNT']\n",
    "top_500_job_titles_df[\"JOB_TITLE_GROUPED\"].to_csv('h1b-visa-dash-app/src/data/top_500_job_titles.csv', index=False)"
   ]
  },
  {
   "cell_type": "code",
   "execution_count": null,
   "id": "557d2d4d",
   "metadata": {},
   "outputs": [],
   "source": [
    "top_500_job_titles_df['JOB_TITLE_GROUPED'].values.tolist()"
   ]
  },
  {
   "cell_type": "code",
   "execution_count": null,
   "id": "46c078b6",
   "metadata": {},
   "outputs": [],
   "source": [
    "top_2000_employers = h1b_visa_data['EMPLOYER_NAME'].value_counts().head(2000)\n",
    "top_2000_employers = top_2000_employers.index.tolist()\n",
    "top_2000_employers\n",
    "\n",
    "top_2000_employer_stats = (\n",
    "    h1b_visa_data[h1b_visa_data['EMPLOYER_NAME'].isin(top_2000_employers)]\n",
    ")[[\"EMPLOYER_NAME\", \"PREVAILING_WAGE\", \"WORKSITE_STATE\"]]\n",
    "\n",
    "top_2000_employer_stats.info()\n",
    "top_2000_employer_stats.to_csv('h1b-visa-dash-app/src/data/top_2000_employer_stats.csv', index=False)\n"
   ]
  },
  {
   "cell_type": "code",
   "execution_count": 41,
   "id": "5d5d0fa3",
   "metadata": {},
   "outputs": [],
   "source": [
    "# Create a DataFrame of the top 2000 EMPLOYER_NAME by value counts, sorted descending\n",
    "\n",
    "top_2000_employers = h1b_visa_data['EMPLOYER_NAME'].value_counts().head(2000)\n",
    "top_2000_employers_df = top_2000_employers.reset_index()\n",
    "top_2000_employers_df.columns = ['EMPLOYER_NAME', 'COUNT']\n",
    "top_2000_employers_df.head()\n",
    "top_2000_employers_df.to_csv('h1b-visa-dash-app/src/data/top_2000_employers.csv', index=False)"
   ]
  }
 ],
 "metadata": {
  "kernelspec": {
   "display_name": ".venv",
   "language": "python",
   "name": "python3"
  },
  "language_info": {
   "codemirror_mode": {
    "name": "ipython",
    "version": 3
   },
   "file_extension": ".py",
   "mimetype": "text/x-python",
   "name": "python",
   "nbconvert_exporter": "python",
   "pygments_lexer": "ipython3",
   "version": "3.12.10"
  }
 },
 "nbformat": 4,
 "nbformat_minor": 5
}
